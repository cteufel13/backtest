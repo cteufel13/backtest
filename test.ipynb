{
 "cells": [
  {
   "cell_type": "code",
   "execution_count": 1,
   "metadata": {},
   "outputs": [],
   "source": [
    "from backtest.utils.dataretriever import DataRetriever\n",
    "from backtest.backtest import Backtest"
   ]
  },
  {
   "cell_type": "code",
   "execution_count": null,
   "metadata": {},
   "outputs": [
    {
     "name": "stdout",
     "output_type": "stream",
     "text": [
      "['AAPL']\n",
      "hello AAPL\n",
      "AAPL\n",
      "Set Duration to Max\n"
     ]
    },
    {
     "name": "stderr",
     "output_type": "stream",
     "text": [
      "$AAPL: possibly delisted; no price data found  (1h 2023-02-14 10:55:24-05:00 -> 2025-02-13 10:55:24-05:00) (Yahoo error = \"1h data not available for startTime=1676390124 and endTime=1739462124. The requested range must be within the last 730 days.\")\n"
     ]
    },
    {
     "name": "stdout",
     "output_type": "stream",
     "text": [
      "{'AAPL': Empty DataFrame\n",
      "Columns: [Open, High, Low, Close, Adj Close, Volume]\n",
      "Index: []}\n"
     ]
    }
   ],
   "source": [
    "backtest = Backtest()\n",
    "backtest.get_tickers(tickers=['AAPL','MSFT'])\n",
    "print(backtest.tickers)\n",
    "data =backtest.get_data()\n",
    "print(backtest.data)\n",
    "\n"
   ]
  },
  {
   "cell_type": "code",
   "execution_count": null,
   "metadata": {},
   "outputs": [
    {
     "data": {
      "text/html": [
       "\n",
       "        <iframe\n",
       "            width=\"100%\"\n",
       "            height=\"650\"\n",
       "            src=\"http://127.0.0.1:8050/\"\n",
       "            frameborder=\"0\"\n",
       "            allowfullscreen\n",
       "            \n",
       "        ></iframe>\n",
       "        "
      ],
      "text/plain": [
       "<IPython.lib.display.IFrame at 0x117291410>"
      ]
     },
     "metadata": {},
     "output_type": "display_data"
    },
    {
     "name": "stdout",
     "output_type": "stream",
     "text": [
      "---------------------------------------------------------------------------\n",
      "TypeError                                 Traceback (most recent call last)\n",
      "File ~/Documents/Projects/backtest/backtest/frontend.py:37, in Frontend.__init__.<locals>.update_main_graph(selected_stock='Asia')\n",
      "     32 @self.app.callback(\n",
      "     33     Output('main-graph', 'figure'),\n",
      "     34     Input('dropdown', 'value')\n",
      "     35 )\n",
      "     36 def update_main_graph(selected_stock):\n",
      "---> 37     df = self.data[selected_stock]\n",
      "        self.data = None\n",
      "        selected_stock = 'Asia'\n",
      "        self = <backtest.frontend.Frontend object at 0x1046cced0>\n",
      "     38     fig = px.scatter(df, x='time', y='dollars')\n",
      "     39     return fig            \n",
      "\n",
      "TypeError: 'NoneType' object is not subscriptable\n",
      "\n",
      "---------------------------------------------------------------------------\n",
      "TypeError                                 Traceback (most recent call last)\n",
      "File ~/Documents/Projects/backtest/backtest/frontend.py:37, in Frontend.__init__.<locals>.update_main_graph(selected_stock=None)\n",
      "     32 @self.app.callback(\n",
      "     33     Output('main-graph', 'figure'),\n",
      "     34     Input('dropdown', 'value')\n",
      "     35 )\n",
      "     36 def update_main_graph(selected_stock):\n",
      "---> 37     df = self.data[selected_stock]\n",
      "        self.data = None\n",
      "        selected_stock = None\n",
      "        self = <backtest.frontend.Frontend object at 0x1046cced0>\n",
      "     38     fig = px.scatter(df, x='time', y='dollars')\n",
      "     39     return fig            \n",
      "\n",
      "TypeError: 'NoneType' object is not subscriptable\n",
      "\n",
      "---------------------------------------------------------------------------\n",
      "TypeError                                 Traceback (most recent call last)\n",
      "File ~/Documents/Projects/backtest/backtest/frontend.py:37, in Frontend.__init__.<locals>.update_main_graph(selected_stock='AAPL')\n",
      "     32 @self.app.callback(\n",
      "     33     Output('main-graph', 'figure'),\n",
      "     34     Input('dropdown', 'value')\n",
      "     35 )\n",
      "     36 def update_main_graph(selected_stock):\n",
      "---> 37     df = self.data[selected_stock]\n",
      "        self.data = None\n",
      "        selected_stock = 'AAPL'\n",
      "        self = <backtest.frontend.Frontend object at 0x1046cced0>\n",
      "     38     fig = px.scatter(df, x='time', y='dollars')\n",
      "     39     return fig            \n",
      "\n",
      "TypeError: 'NoneType' object is not subscriptable\n",
      "\n"
     ]
    }
   ],
   "source": [
    "from backtest.frontend import Frontend\n",
    "\n",
    "frontend = Frontend()\n",
    "frontend.load(data=data)\n",
    "frontend.run()"
   ]
  }
 ],
 "metadata": {
  "kernelspec": {
   "display_name": ".venv",
   "language": "python",
   "name": "python3"
  },
  "language_info": {
   "codemirror_mode": {
    "name": "ipython",
    "version": 3
   },
   "file_extension": ".py",
   "mimetype": "text/x-python",
   "name": "python",
   "nbconvert_exporter": "python",
   "pygments_lexer": "ipython3",
   "version": "3.11.8"
  }
 },
 "nbformat": 4,
 "nbformat_minor": 2
}
